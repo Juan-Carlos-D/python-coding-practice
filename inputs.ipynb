{
 "cells": [
  {
   "cell_type": "markdown",
   "metadata": {},
   "source": [
    "### Prompt:\n",
    "- Write a Python program that asks the user for their name and age, then prints out a message addressing them by name and telling them how many years they have until they turn 100 years old."
   ]
  },
  {
   "cell_type": "code",
   "execution_count": 1,
   "metadata": {},
   "outputs": [
    {
     "name": "stdout",
     "output_type": "stream",
     "text": [
      "Hello, JC! You have 71 years until you turn 100\n"
     ]
    }
   ],
   "source": [
    "name = input(\"Enter your name:\")\n",
    "age = input(\"Enter your age:\")\n",
    "\n",
    "print(f\"Hello, {name}! You have {100 - int(age)} years until you turn 100\")"
   ]
  },
  {
   "cell_type": "markdown",
   "metadata": {},
   "source": [
    "- Write a Python program that calculates the area of a rectangle. The program should ask the user to input the length and width of the rectangle, and then print out the calculated area."
   ]
  },
  {
   "cell_type": "code",
   "execution_count": 3,
   "metadata": {},
   "outputs": [
    {
     "name": "stdout",
     "output_type": "stream",
     "text": [
      "The area of the rectangle is 300\n"
     ]
    }
   ],
   "source": [
    "length = int(input(\"Enter length:\"))\n",
    "width = int(input(\"Enter width:\"))\n",
    "area = length*width\n",
    "\n",
    "print(f\"The area of the rectangle is {area}\")"
   ]
  },
  {
   "cell_type": "markdown",
   "metadata": {},
   "source": [
    "- Write a Python program that converts temperature from Celsius to Fahrenheit. The program should ask the user to input the temperature in Celsius and then print out the equivalent temperature in Fahrenheit.\n",
    "\n",
    "- The conversion formula is:\n",
    "    - Fahrenheit = (Celsius * 9/5) + 32"
   ]
  },
  {
   "cell_type": "code",
   "execution_count": 6,
   "metadata": {},
   "outputs": [
    {
     "name": "stdout",
     "output_type": "stream",
     "text": [
      "The temperature from Celsius in Fahrenheit is: 68.00 degrees\n"
     ]
    }
   ],
   "source": [
    "celsius = float(input(\"Enter Celsius temp: \")) # float b/c temp vals can be in decimal\n",
    "fahrenheit = (celsius * 9 / 5) + 32\n",
    "\n",
    "print(f\"The temperature from Celsius in Fahrenheit is: {fahrenheit:.2f} degrees\") # `:.2f` rounds the temp to two decimal places for better readability\n"
   ]
  },
  {
   "cell_type": "markdown",
   "metadata": {},
   "source": [
    "- Write a Python program that checks whether a number is even or odd. The program should ask the user to input a number and then print out whether the number is even or odd."
   ]
  },
  {
   "cell_type": "code",
   "execution_count": 8,
   "metadata": {},
   "outputs": [
    {
     "name": "stdout",
     "output_type": "stream",
     "text": [
      "66 is even\n"
     ]
    }
   ],
   "source": [
    "number = int(input(\"Enter your number: \"))\n",
    "if number % 2 == 0:\n",
    "    print(f\"{number} is even\")\n",
    "else:\n",
    "    print(f\"{number} is odd\")"
   ]
  },
  {
   "cell_type": "markdown",
   "metadata": {},
   "source": [
    "- Write a Python program to find the largest among three numbers entered by the user. The program should ask the user to input three numbers, and then it should print out the largest number."
   ]
  },
  {
   "cell_type": "code",
   "execution_count": 2,
   "metadata": {},
   "outputs": [
    {
     "name": "stdout",
     "output_type": "stream",
     "text": [
      "-2 is the largest number\n"
     ]
    }
   ],
   "source": [
    "first = int(input(\"Enter the first num: \"))\n",
    "second = int(input(\"Enter the second num: \"))\n",
    "third = int(input(\"Enter the third num: \"))\n",
    "\n",
    "largest = max(first, second, third)\n",
    "\n",
    "print(f\"{largest} is the largest number\")"
   ]
  },
  {
   "cell_type": "markdown",
   "metadata": {},
   "source": [
    "- Write a Python program to check whether a given year is a leap year or not. The program should ask the user to input a year, and then print out whether the year is a leap year or not.\n",
    "    - A year is a leap year if it is divisible by 4 but not divisible by 100, except if it is also divisible by 400."
   ]
  },
  {
   "cell_type": "code",
   "execution_count": 6,
   "metadata": {},
   "outputs": [
    {
     "name": "stdout",
     "output_type": "stream",
     "text": [
      "2024 is a leap year\n"
     ]
    }
   ],
   "source": [
    "year = int(input(\"Enter the year: \"))\n",
    "leap_year = (year % 4 == 0) and (year % 100 != 0 or year % 400 == 0)\n",
    "\n",
    "if leap_year:\n",
    "    print(f\"{year} is a leap year\")\n",
    "else:\n",
    "    print(f\"{year} is not a leap year\")"
   ]
  },
  {
   "cell_type": "markdown",
   "metadata": {},
   "source": []
  }
 ],
 "metadata": {
  "kernelspec": {
   "display_name": "base",
   "language": "python",
   "name": "python3"
  },
  "language_info": {
   "codemirror_mode": {
    "name": "ipython",
    "version": 3
   },
   "file_extension": ".py",
   "mimetype": "text/x-python",
   "name": "python",
   "nbconvert_exporter": "python",
   "pygments_lexer": "ipython3",
   "version": "3.11.5"
  }
 },
 "nbformat": 4,
 "nbformat_minor": 2
}
