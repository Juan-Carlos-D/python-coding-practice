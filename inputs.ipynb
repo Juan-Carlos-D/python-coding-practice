{
 "cells": [
  {
   "cell_type": "markdown",
   "metadata": {},
   "source": [
    "### Prompt:\n",
    "- Write a Python program that asks the user for their name and age, then prints out a message addressing them by name and telling them how many years they have until they turn 100 years old."
   ]
  },
  {
   "cell_type": "code",
   "execution_count": 1,
   "metadata": {},
   "outputs": [
    {
     "name": "stdout",
     "output_type": "stream",
     "text": [
      "Hello, JC! You have 71 years until you turn 100\n"
     ]
    }
   ],
   "source": [
    "name = input(\"Enter your name:\")\n",
    "age = input(\"Enter your age:\")\n",
    "\n",
    "print(f\"Hello, {name}! You have {100 - int(age)} years until you turn 100\")"
   ]
  },
  {
   "cell_type": "markdown",
   "metadata": {},
   "source": [
    "- Write a Python program that calculates the area of a rectangle. The program should ask the user to input the length and width of the rectangle, and then print out the calculated area."
   ]
  },
  {
   "cell_type": "code",
   "execution_count": 3,
   "metadata": {},
   "outputs": [
    {
     "name": "stdout",
     "output_type": "stream",
     "text": [
      "The area of the rectangle is 300\n"
     ]
    }
   ],
   "source": [
    "length = int(input(\"Enter length:\"))\n",
    "width = int(input(\"Enter width:\"))\n",
    "area = length*width\n",
    "\n",
    "print(f\"The area of the rectangle is {area}\")"
   ]
  },
  {
   "cell_type": "markdown",
   "metadata": {},
   "source": [
    "- Write a Python program that converts temperature from Celsius to Fahrenheit. The program should ask the user to input the temperature in Celsius and then print out the equivalent temperature in Fahrenheit.\n",
    "\n",
    "- The conversion formula is:\n",
    "    - Fahrenheit = (Celsius * 9/5) + 32"
   ]
  },
  {
   "cell_type": "code",
   "execution_count": 6,
   "metadata": {},
   "outputs": [
    {
     "name": "stdout",
     "output_type": "stream",
     "text": [
      "The temperature from Celsius in Fahrenheit is: 68.00 degrees\n"
     ]
    }
   ],
   "source": [
    "celsius = float(input(\"Enter Celsius temp: \")) # float b/c temp vals can be in decimal\n",
    "fahrenheit = (celsius * 9 / 5) + 32\n",
    "\n",
    "print(f\"The temperature from Celsius in Fahrenheit is: {fahrenheit:.2f} degrees\") # `:.2f` rounds the temp to two decimal places for better readability\n"
   ]
  },
  {
   "cell_type": "markdown",
   "metadata": {},
   "source": []
  }
 ],
 "metadata": {
  "kernelspec": {
   "display_name": "base",
   "language": "python",
   "name": "python3"
  },
  "language_info": {
   "codemirror_mode": {
    "name": "ipython",
    "version": 3
   },
   "file_extension": ".py",
   "mimetype": "text/x-python",
   "name": "python",
   "nbconvert_exporter": "python",
   "pygments_lexer": "ipython3",
   "version": "3.11.5"
  }
 },
 "nbformat": 4,
 "nbformat_minor": 2
}
