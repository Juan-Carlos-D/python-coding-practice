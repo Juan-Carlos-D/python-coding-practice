{
 "cells": [
  {
   "cell_type": "markdown",
   "metadata": {},
   "source": [
    "- Write a Python program that takes a list of numbers as input from the user and then prints out the sum of all the numbers in the list."
   ]
  },
  {
   "cell_type": "code",
   "execution_count": 5,
   "metadata": {},
   "outputs": [
    {
     "name": "stdout",
     "output_type": "stream",
     "text": [
      "The sum of the numbers is: 90\n"
     ]
    }
   ],
   "source": [
    "numbers_str = input(\"Enter your list of numbers separated by space: \")\n",
    "numbers_list = numbers_str.split()\n",
    "\n",
    "numbers = [int(num) for num in numbers_list]\n",
    "\n",
    "total_sum = 0\n",
    "\n",
    "for num in numbers:\n",
    "    total_sum += num\n",
    "\n",
    "print(\"The sum of the numbers is:\", total_sum)\n"
   ]
  },
  {
   "cell_type": "markdown",
   "metadata": {},
   "source": []
  }
 ],
 "metadata": {
  "kernelspec": {
   "display_name": "base",
   "language": "python",
   "name": "python3"
  },
  "language_info": {
   "codemirror_mode": {
    "name": "ipython",
    "version": 3
   },
   "file_extension": ".py",
   "mimetype": "text/x-python",
   "name": "python",
   "nbconvert_exporter": "python",
   "pygments_lexer": "ipython3",
   "version": "3.11.5"
  }
 },
 "nbformat": 4,
 "nbformat_minor": 2
}
