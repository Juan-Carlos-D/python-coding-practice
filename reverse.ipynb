{
 "cells": [
  {
   "cell_type": "markdown",
   "metadata": {},
   "source": [
    "- Write a Python program that takes a sentence from the user and then reverses the words in the sentence. For example, if the user enters \"Hello world, how are you?\", the program should output \"you? are how world, Hello\"."
   ]
  },
  {
   "cell_type": "code",
   "execution_count": 3,
   "metadata": {},
   "outputs": [
    {
     "name": "stdout",
     "output_type": "stream",
     "text": [
      "you? are how world, Hello\n"
     ]
    }
   ],
   "source": [
    "sentence = str(input(\"Enter your sentence: \"))\n",
    "words = sentence.split(' ')\n",
    "reverse_sentence = ' '.join(reversed(words))\n",
    "print(reverse_sentence)"
   ]
  },
  {
   "cell_type": "markdown",
   "metadata": {},
   "source": []
  }
 ],
 "metadata": {
  "kernelspec": {
   "display_name": "base",
   "language": "python",
   "name": "python3"
  },
  "language_info": {
   "codemirror_mode": {
    "name": "ipython",
    "version": 3
   },
   "file_extension": ".py",
   "mimetype": "text/x-python",
   "name": "python",
   "nbconvert_exporter": "python",
   "pygments_lexer": "ipython3",
   "version": "3.11.5"
  }
 },
 "nbformat": 4,
 "nbformat_minor": 2
}
